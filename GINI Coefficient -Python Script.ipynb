{
 "cells": [
  {
   "cell_type": "code",
   "execution_count": 1,
   "metadata": {
    "collapsed": true
   },
   "outputs": [],
   "source": [
    "## Connect to MS SQL Server\n",
    "##reference MSFT blog \n",
    "## https://blogs.msdn.microsoft.com/cdndevs/2015/03/11/python-and-data-sql-server-as-a-data-source-for-python-applications/\n",
    "\n",
    "import pyodbc \n",
    "import pandas as pd\n",
    "\n",
    "#Set connection parameters\n",
    "servername = 'TestServer'\n",
    "dbname = 'TestDB'\n",
    "\n",
    "#Create connection token\n",
    "conn = pyodbc.connect(\n",
    "        \"driver={SQL Server Native Client 11.0}; server=%s;database=%s;Trusted_Connection=yes;\"\n",
    "            % (servername, dbname) )\n",
    "\n",
    "#Create query\n",
    "query = \"\"\"SELECT ProductCode,AmountofRawMaterial from Products\n",
    "        \"\"\"\n",
    "\n",
    "#extract the query results in a dataframe\n",
    "df = pd.read_sql_query(query, conn)\n",
    "df.columns = ['Bill_Npi','Rev'] ## rename the columns for ease of access\n"
   ]
  },
  {
   "cell_type": "code",
   "execution_count": 2,
   "metadata": {},
   "outputs": [
    {
     "data": {
      "text/plain": [
       "0.18222883660229594"
      ]
     },
     "execution_count": 2,
     "metadata": {},
     "output_type": "execute_result"
    }
   ],
   "source": [
    "#Do :Calculations\n",
   ]
  },
  {
   "cell_type": "code",
   "execution_count": 3,
   "metadata": {},
   "outputs": [
    {
     "execution_count": 3,
     "metadata": {},
     "output_type": "execute_result"
    }
   ],
    },
  {
   "cell_type": "code",
   "execution_count": 20,
   "metadata": {},
   "outputs": [
       "execution_count": 20,
     "metadata": {},
     "output_type": "execute_result"
    }
   ],
   "source": []
  },
  {
   "cell_type": "code",
   "execution_count": null,
   "metadata": {
    "collapsed": true
   },
   "outputs": [],
   "source": []
  },
  {
   "cell_type": "code",
   "execution_count": 25,
   "metadata": {},
   "outputs": [],
   "source": [
    "# from tkinter import *\n",
    "from tkinter.messagebox import *\n",
    "\n",
    "## parameter scaling of the Gini score based on their need\n",
    "##parametrize the scale\n",
    "\n",
    "def show_answer():\n",
    "    scale_min = float(num1.get())\n",
    "    scale_max = float(num2.get())\n",
    "    scaled_score = Risk_Score * (scale_max- scale_min+1) +scale_min\n",
    "    Ans = round(scaled_score,4)\n",
    "#     Ans = int(num1.get()) + int(num2.get())\n",
    "    blank.delete(0,END)\n",
    "    blank.insert(0, Ans)\n",
    "\n",
    "\n",
    "main = Tk()\n",
    "Label(main, text = \"Range starts from:\").grid(row=0)\n",
    "Label(main, text = \"Range ends at:\").grid(row=1)\n",
    "Label(main, text = \"The scaled score :\").grid(row=2)\n",
    "\n",
    "\n",
    "\n",
    "num1 = Entry(main)\n",
    "num1.insert(END, '0')\n",
    "num2 = Entry(main)\n",
    "num2.insert(END, '1')\n",
    "blank = Entry(main)\n",
    "\n",
    "\n",
    "num1.grid(row=0, column=1)\n",
    "num2.grid(row=1, column=1)\n",
    "blank.grid(row=2, column=1)\n",
    "\n",
    "\n",
    "Button(main, text='Quit', command=main.destroy).grid(row=4, column=0, sticky=W, pady=4)\n",
    "Button(main, text='Show', command=show_answer).grid(row=4, column=1, sticky=W, pady=4)\n",
    "\n",
    "# mainloop()\n",
    "\n",
    "# if __name__ == '__main__':\n",
    "#     root = Tk()\n",
    "main.title(\"RiskScore\")\n",
    "# main.geometry(\"500x400\")\n",
    "#     app = start_window(root)\n",
    "mainloop()"
   ]
  }
 ],
 "metadata": {
  "kernelspec": {
   "display_name": "Python 3",
   "language": "python",
   "name": "python3"
  },
  "language_info": {
   "codemirror_mode": {
    "name": "ipython",
    "version": 3
   },
   "file_extension": ".py",
   "mimetype": "text/x-python",
   "name": "python",
   "nbconvert_exporter": "python",
   "pygments_lexer": "ipython3",
   "version": "3.6.3"
  }
 },
 "nbformat": 4,
 "nbformat_minor": 2
}
